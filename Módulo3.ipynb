{
 "cells": [
  {
   "cell_type": "markdown",
   "metadata": {},
   "source": [
    "## ADVERTENCIA DE ASTEROIDE "
   ]
  },
  {
   "cell_type": "code",
   "execution_count": 2,
   "metadata": {},
   "outputs": [
    {
     "name": "stdout",
     "output_type": "stream",
     "text": [
      "Advertencia, asteroide de alto riesgo\n"
     ]
    }
   ],
   "source": [
    "a = 25 \n",
    "b = 49 \n",
    "if b > a:\n",
    "    print(\"Advertencia, asteroide de alto riesgo\")\n",
    "else:\n",
    "    print (\"No hay problema, sigue con tu día\")"
   ]
  },
  {
   "cell_type": "markdown",
   "metadata": {},
   "source": [
    "#### Advertencia de asteoride 2"
   ]
  },
  {
   "cell_type": "code",
   "execution_count": 7,
   "metadata": {},
   "outputs": [
    {
     "name": "stdout",
     "output_type": "stream",
     "text": [
      "No podrá ver el rayo de luz\n"
     ]
    }
   ],
   "source": [
    "asteroide = 19 \n",
    "if asteroide > 20:\n",
    "    print(\"Puede ver el rayo de luz\")\n",
    "elif asteroide == 20:\n",
    "    print (\"Puede ver el asteroide\")\n",
    "else:\n",
    "    print(\"No podrá ver el rayo de luz\")\n",
    "\n"
   ]
  },
  {
   "cell_type": "markdown",
   "metadata": {},
   "source": [
    "#### Operadores and or"
   ]
  },
  {
   "cell_type": "code",
   "execution_count": 25,
   "metadata": {},
   "outputs": [
    {
     "name": "stdout",
     "output_type": "stream",
     "text": [
      "Asteroide causará mucho daño\n"
     ]
    }
   ],
   "source": [
    "Velocidad_asteroide = 30  \n",
    "Tamaño_asteroide = 200 \n",
    "if Tamaño_asteroide > 25:\n",
    "    print(\"Asteroide causará mucho daño\")\n",
    "elif Tamaño_asteroide < 25: \n",
    "    print (\"Asteroide se quemará en la atmósfera de la tierra\")\n",
    "elif Velocidad_asteroide < 25: \n",
    "    print (\"Advertencia de velocidad del Asteroide\")\n",
    "elif Velocidad_asteroide > 20 or Velocidad_asteroide == 20:\n",
    "    print (\"Se puede ver el rayo de luz producido por el Asteroide\")\n"
   ]
  }
 ],
 "metadata": {
  "interpreter": {
   "hash": "deca167cd5759d593a29d5ff0cad183eb1b0dddc6407d2603c9b3e64c765c6fe"
  },
  "kernelspec": {
   "display_name": "Python 3.10.2 64-bit",
   "language": "python",
   "name": "python3"
  },
  "language_info": {
   "codemirror_mode": {
    "name": "ipython",
    "version": 3
   },
   "file_extension": ".py",
   "mimetype": "text/x-python",
   "name": "python",
   "nbconvert_exporter": "python",
   "pygments_lexer": "ipython3",
   "version": "3.10.2"
  },
  "orig_nbformat": 4
 },
 "nbformat": 4,
 "nbformat_minor": 2
}
